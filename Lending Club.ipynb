{
 "cells": [
  {
   "cell_type": "markdown",
   "metadata": {},
   "source": [
    "Lending-Club Project:\n",
    "I will explore past loan data and try to build a model that will predict\n",
    "if a loan will be paid off on time or not."
   ]
  },
  {
   "cell_type": "markdown",
   "metadata": {},
   "source": [
    "Import pandas and remove first line as it contains extraneous text"
   ]
  },
  {
   "cell_type": "code",
   "execution_count": 119,
   "metadata": {},
   "outputs": [],
   "source": [
    "import pandas as pd\n",
    "\n",
    "loans_2007=pd.read_csv(\"LoanStats3a.csv\", skiprows=1,low_memory=False)\n",
    "half_count = len(loans_2007)/2\n",
    "loans_2007= loans_2007.dropna(thresh=half_count,axis=1)\n",
    "\n",
    "loans_2007 = loans_2007.drop(['desc'],axis=1)\n",
    "\n",
    "\n",
    "loans_2007.to_csv('loans_2007.csv', index=False)\n",
    "\n",
    "#print(loans_2007.iloc[0])"
   ]
  },
  {
   "cell_type": "markdown",
   "metadata": {},
   "source": [
    "Dataframe contains many columns so it is helpfull to explore few at a time. Also, this will allow us to pay attention to any features that leak \n",
    "data from the future, causing our model to overfit. "
   ]
  },
  {
   "cell_type": "code",
   "execution_count": 120,
   "metadata": {
    "collapsed": true
   },
   "outputs": [],
   "source": [
    "cols_drop=[\"funded_amnt\", \"funded_amnt_inv\", \"grade\",\n",
    "           \"sub_grade\", \"emp_title\", \"issue_d\"]\n",
    "\n",
    "loans_2007=loans_2007.drop(cols_drop,axis=1)\n"
   ]
  },
  {
   "cell_type": "code",
   "execution_count": 121,
   "metadata": {},
   "outputs": [],
   "source": [
    "cols_drop=[\"zip_code\", \"out_prncp\", \"out_prncp_inv\", \"total_pymnt\",\n",
    "\"total_pymnt_inv\", \"total_rec_prncp\"]\n",
    "loans_2007= loans_2007.drop(cols_drop,axis=1)\n"
   ]
  },
  {
   "cell_type": "code",
   "execution_count": 122,
   "metadata": {
    "collapsed": true
   },
   "outputs": [],
   "source": [
    "cols_drop=[\"total_rec_int\", \"total_rec_late_fee\", \"recoveries\", \"collection_recovery_fee\",\n",
    "           \"last_pymnt_d\", \"last_pymnt_amnt\"]\n",
    "loans_2007= loans_2007.drop(cols_drop,axis=1)\n"
   ]
  },
  {
   "cell_type": "code",
   "execution_count": 123,
   "metadata": {},
   "outputs": [
    {
     "name": "stdout",
     "output_type": "stream",
     "text": [
      "loan_amnt                            5000\n",
      "term                            36 months\n",
      "int_rate                           10.65%\n",
      "installment                        162.87\n",
      "emp_length                      10+ years\n",
      "home_ownership                       RENT\n",
      "annual_inc                          24000\n",
      "verification_status              Verified\n",
      "loan_status                    Fully Paid\n",
      "pymnt_plan                              n\n",
      "purpose                       credit_card\n",
      "title                            Computer\n",
      "addr_state                             AZ\n",
      "dti                                 27.65\n",
      "delinq_2yrs                             0\n",
      "earliest_cr_line                 Jan-1985\n",
      "inq_last_6mths                          1\n",
      "open_acc                                3\n",
      "pub_rec                                 0\n",
      "revol_bal                           13648\n",
      "revol_util                          83.7%\n",
      "total_acc                               9\n",
      "initial_list_status                     f\n",
      "last_credit_pull_d               Nov-2017\n",
      "collections_12_mths_ex_med              0\n",
      "policy_code                             1\n",
      "application_type               Individual\n",
      "acc_now_delinq                          0\n",
      "chargeoff_within_12_mths                0\n",
      "delinq_amnt                             0\n",
      "pub_rec_bankruptcies                    0\n",
      "tax_liens                               0\n",
      "hardship_flag                           N\n",
      "disbursement_method                  Cash\n",
      "debt_settlement_flag                    N\n",
      "Name: 0, dtype: object\n",
      "35\n"
     ]
    }
   ],
   "source": [
    "print(loans_2007.iloc[0])\n",
    "print(loans_2007.shape[1])"
   ]
  },
  {
   "cell_type": "code",
   "execution_count": 124,
   "metadata": {
    "collapsed": true
   },
   "outputs": [],
   "source": [
    "loans_2007= loans_2007.drop(['hardship_flag','disbursement_method','debt_settlement_flag'],axis=1)\n"
   ]
  },
  {
   "cell_type": "code",
   "execution_count": 125,
   "metadata": {},
   "outputs": [
    {
     "name": "stdout",
     "output_type": "stream",
     "text": [
      "32\n"
     ]
    }
   ],
   "source": [
    "print(loans_2007.shape[1])"
   ]
  },
  {
   "cell_type": "code",
   "execution_count": 126,
   "metadata": {},
   "outputs": [
    {
     "name": "stdout",
     "output_type": "stream",
     "text": [
      "Fully Paid                                             34116\n",
      "Charged Off                                             5670\n",
      "Does not meet the credit policy. Status:Fully Paid      1988\n",
      "Does not meet the credit policy. Status:Charged Off      761\n",
      "Name: loan_status, dtype: int64\n"
     ]
    }
   ],
   "source": [
    "print(loans_2007[\"loan_status\"].value_counts())"
   ]
  },
  {
   "cell_type": "markdown",
   "metadata": {},
   "source": [
    "For our binary classification problem, we are interested in\n",
    "Full Paid and Charged Off loan status."
   ]
  },
  {
   "cell_type": "markdown",
   "metadata": {},
   "source": [
    "Keep in mind the class imbalance between positive and negative cases"
   ]
  },
  {
   "cell_type": "code",
   "execution_count": 127,
   "metadata": {},
   "outputs": [],
   "source": [
    "loans_2007 = loans_2007[(loans_2007['loan_status'] == \"Fully Paid\") | (loans_2007['loan_status'] == \"Charged Off\")]"
   ]
  },
  {
   "cell_type": "code",
   "execution_count": 128,
   "metadata": {},
   "outputs": [
    {
     "name": "stdout",
     "output_type": "stream",
     "text": [
      "Fully Paid     34116\n",
      "Charged Off     5670\n",
      "Name: loan_status, dtype: int64\n"
     ]
    }
   ],
   "source": [
    "print(loans_2007[\"loan_status\"].value_counts())"
   ]
  },
  {
   "cell_type": "markdown",
   "metadata": {},
   "source": [
    "Below I use pd.df.replace method to assign binary [0,1] to data"
   ]
  },
  {
   "cell_type": "code",
   "execution_count": 129,
   "metadata": {},
   "outputs": [],
   "source": [
    "mapping_dict = {\n",
    "    \"loan_status\": {\n",
    "        \"Fully Paid\": 1,\n",
    "        \"Charged Off\": 0,}}\n",
    "\n",
    "loans_2007 = loans_2007.replace(mapping_dict)"
   ]
  },
  {
   "cell_type": "markdown",
   "metadata": {},
   "source": [
    "Remove any columns that contain only one unique value since they\n",
    "won't be useful for the model."
   ]
  },
  {
   "cell_type": "code",
   "execution_count": 130,
   "metadata": {
    "collapsed": true
   },
   "outputs": [],
   "source": [
    "drop_columns=[]\n",
    "orig_cols= loans_2007.columns\n",
    "\n",
    "for col in orig_cols:\n",
    "    unique_col = loans_2007[col].dropna().unique()\n",
    "    if len(unique_col)==1:\n",
    "        drop_columns.append(col)\n",
    "        \n",
    "loans_2007=loans_2007.drop(drop_columns,axis=1)  \n"
   ]
  },
  {
   "cell_type": "markdown",
   "metadata": {},
   "source": [
    "More data engineering.... Next I will handle any missing values and convert categorical columns to numeric ones."
   ]
  },
  {
   "cell_type": "code",
   "execution_count": 131,
   "metadata": {},
   "outputs": [
    {
     "name": "stdout",
     "output_type": "stream",
     "text": [
      "loan_amnt                 0\n",
      "term                      0\n",
      "int_rate                  0\n",
      "installment               0\n",
      "emp_length                0\n",
      "home_ownership            0\n",
      "annual_inc                0\n",
      "verification_status       0\n",
      "loan_status               0\n",
      "purpose                   0\n",
      "title                    10\n",
      "addr_state                0\n",
      "dti                       0\n",
      "delinq_2yrs               0\n",
      "earliest_cr_line          0\n",
      "inq_last_6mths            0\n",
      "open_acc                  0\n",
      "pub_rec                   0\n",
      "revol_bal                 0\n",
      "revol_util               50\n",
      "total_acc                 0\n",
      "last_credit_pull_d        2\n",
      "pub_rec_bankruptcies    697\n",
      "dtype: int64\n"
     ]
    }
   ],
   "source": [
    "null_counts=loans_2007.isnull().sum()\n",
    "print(null_counts)"
   ]
  },
  {
   "cell_type": "markdown",
   "metadata": {},
   "source": [
    "Let's first remove pub_rec_bank columns entirely and then remove rows of \n",
    "containing missing values of other two."
   ]
  },
  {
   "cell_type": "code",
   "execution_count": 132,
   "metadata": {
    "collapsed": true
   },
   "outputs": [],
   "source": [
    "loans_2007= loans_2007.drop(\"pub_rec_bankruptcies\",axis=1)\n",
    "loans_2007 = loans_2007.dropna(axis=0)"
   ]
  },
  {
   "cell_type": "markdown",
   "metadata": {},
   "source": [
    "While numerical columns can be usewd with scikit-learn, \"object\" columns\n",
    "that contain text need to be converted to numerical data types"
   ]
  },
  {
   "cell_type": "code",
   "execution_count": 133,
   "metadata": {},
   "outputs": [],
   "source": [
    "object_columns_df = loans_2007.select_dtypes(include=[\"object\"])\n",
    "#print(object_columns_df)"
   ]
  },
  {
   "cell_type": "markdown",
   "metadata": {},
   "source": [
    "Some of the columns seem like they represent categorical values, but we should confirm by checking the number of unique values in those columns"
   ]
  },
  {
   "cell_type": "code",
   "execution_count": 134,
   "metadata": {},
   "outputs": [
    {
     "name": "stdout",
     "output_type": "stream",
     "text": [
      "RENT        18881\n",
      "MORTGAGE    17688\n",
      "OWN          3056\n",
      "OTHER          96\n",
      "NONE            3\n",
      "Name: home_ownership, dtype: int64\n",
      "Not Verified       16890\n",
      "Verified           12833\n",
      "Source Verified    10001\n",
      "Name: verification_status, dtype: int64\n",
      "10+ years    8897\n",
      "< 1 year     4576\n",
      "2 years      4389\n",
      "3 years      4094\n",
      "4 years      3435\n",
      "5 years      3279\n",
      "1 year       3240\n",
      "6 years      2227\n",
      "7 years      1771\n",
      "8 years      1483\n",
      "9 years      1259\n",
      "n/a          1074\n",
      "Name: emp_length, dtype: int64\n",
      " 36 months    29041\n",
      " 60 months    10683\n",
      "Name: term, dtype: int64\n",
      "CA    7095\n",
      "NY    3815\n",
      "FL    2869\n",
      "TX    2729\n",
      "NJ    1850\n",
      "IL    1524\n",
      "PA    1515\n",
      "VA    1407\n",
      "GA    1399\n",
      "MA    1343\n",
      "OH    1221\n",
      "MD    1053\n",
      "AZ     878\n",
      "WA     841\n",
      "CO     791\n",
      "NC     788\n",
      "CT     754\n",
      "MI     722\n",
      "MO     685\n",
      "MN     613\n",
      "NV     497\n",
      "SC     472\n",
      "WI     459\n",
      "AL     451\n",
      "OR     450\n",
      "LA     436\n",
      "KY     327\n",
      "OK     299\n",
      "KS     271\n",
      "UT     259\n",
      "AR     245\n",
      "DC     212\n",
      "RI     199\n",
      "NM     190\n",
      "WV     177\n",
      "HI     173\n",
      "NH     172\n",
      "DE     113\n",
      "MT      85\n",
      "WY      83\n",
      "AK      81\n",
      "SD      63\n",
      "VT      54\n",
      "MS      19\n",
      "TN      17\n",
      "IN       9\n",
      "ID       6\n",
      "IA       5\n",
      "NE       5\n",
      "ME       3\n",
      "Name: addr_state, dtype: int64\n"
     ]
    }
   ],
   "source": [
    "cols = ['home_ownership', 'verification_status', 'emp_length', 'term', 'addr_state']\n",
    "\n",
    "for c in cols:\n",
    "    print(loans_2007[c].value_counts())\n",
    "    "
   ]
  },
  {
   "cell_type": "markdown",
   "metadata": {},
   "source": [
    "The home_ownership, verification_status, emp_length, term, and addr_state columns all contain multiple discrete values. We should clean the emp_length column and treat it as a numerical one since the values have ordering (2 years of employment is less than 8 years)."
   ]
  },
  {
   "cell_type": "code",
   "execution_count": 135,
   "metadata": {},
   "outputs": [
    {
     "name": "stdout",
     "output_type": "stream",
     "text": [
      "debt_consolidation    18661\n",
      "credit_card            5134\n",
      "other                  3985\n",
      "home_improvement       2980\n",
      "major_purchase         2182\n",
      "small_business         1827\n",
      "car                    1549\n",
      "wedding                 947\n",
      "medical                 693\n",
      "moving                  581\n",
      "house                   382\n",
      "vacation                380\n",
      "educational             320\n",
      "renewable_energy        103\n",
      "Name: purpose, dtype: int64\n",
      "Debt Consolidation                           2189\n",
      "Debt Consolidation Loan                      1732\n",
      "Personal Loan                                 661\n",
      "Consolidation                                 516\n",
      "debt consolidation                            508\n",
      "Credit Card Consolidation                     357\n",
      "Home Improvement                              357\n",
      "Debt consolidation                            334\n",
      "Small Business Loan                           329\n",
      "Credit Card Loan                              319\n",
      "Personal                                      309\n",
      "Consolidation Loan                            256\n",
      "Home Improvement Loan                         249\n",
      "personal loan                                 234\n",
      "personal                                      220\n",
      "Loan                                          213\n",
      "Wedding Loan                                  209\n",
      "consolidation                                 205\n",
      "Car Loan                                      204\n",
      "Other Loan                                    192\n",
      "Credit Card Payoff                            155\n",
      "Wedding                                       154\n",
      "Major Purchase Loan                           145\n",
      "Credit Card Refinance                         144\n",
      "Consolidate                                   127\n",
      "Medical                                       122\n",
      "Credit Card                                   119\n",
      "home improvement                              112\n",
      "My Loan                                        94\n",
      "Credit Cards                                   93\n",
      "                                             ... \n",
      "Green Home Energy Financing                     1\n",
      "personal home improvements                      1\n",
      "Expansion of side consulting business           1\n",
      "personal expenses                               1\n",
      "home improvements for special needs son         1\n",
      "DEPT CONSOLDATION                               1\n",
      "IN NEED OF FINANCING TO CONSOLIDATE DEBT        1\n",
      "I Want to Consolidate Now                       1\n",
      "WARREN'S LOAN                                   1\n",
      "Sharp borrower who pays on time everytime       1\n",
      "BOA_DebtPayment                                 1\n",
      "ACQUIRING GREEN WEBSITE                         1\n",
      "major purchase furniture                        1\n",
      "consoladate                                     1\n",
      "Hybrid                                          1\n",
      "upgrade bathroom                                1\n",
      "Refinance 29.99% Card                           1\n",
      "my mobile home                                  1\n",
      "Time to paint the exterior!                     1\n",
      "VROD                                            1\n",
      "Lovely Improvements                             1\n",
      "clean cards                                     1\n",
      "Budget set, get out of debt !                   1\n",
      "Home Improve Credit Card                        1\n",
      "Cleaning Up                                     1\n",
      "jessica's loan                                  1\n",
      "Financial Stability Plan                        1\n",
      "christmas project                               1\n",
      "Payoff Juniper Card                             1\n",
      "Low interest loan                               1\n",
      "Name: title, Length: 19610, dtype: int64\n"
     ]
    }
   ],
   "source": [
    "# value_counts displayes unique value in columns selected\n",
    "\n",
    "col=[\"purpose\",\"title\"]\n",
    "\n",
    "for c in col:\n",
    "    print(loans_2007[c].value_counts()) "
   ]
  },
  {
   "cell_type": "code",
   "execution_count": 136,
   "metadata": {
    "collapsed": true
   },
   "outputs": [],
   "source": [
    "cols=[\"last_credit_pull_d\", \"earliest_cr_line\", \"addr_state\", \"title\"]\n",
    "\n",
    "loans_2007 = loans_2007.drop(cols,axis=1)\n",
    "\n",
    "loans_2007[\"int_rate\"]=loans_2007['int_rate'].str.rstrip('%').astype(\"float\")\n",
    "\n",
    "loans_2007[\"revol_util\"]=loans_2007[\"revol_util\"].str.rstrip('%').astype(\"float\")\n"
   ]
  },
  {
   "cell_type": "code",
   "execution_count": 137,
   "metadata": {
    "collapsed": true
   },
   "outputs": [],
   "source": [
    "mapping_dict = {\n",
    "    \"emp_length\": {\n",
    "        \"10+ years\": 10,\n",
    "        \"9 years\": 9,\n",
    "        \"8 years\": 8,\n",
    "        \"7 years\": 7,\n",
    "        \"6 years\": 6,\n",
    "        \"5 years\": 5,\n",
    "        \"4 years\": 4,\n",
    "        \"3 years\": 3,\n",
    "        \"2 years\": 2,\n",
    "        \"1 year\": 1,\n",
    "        \"< 1 year\": 0,\n",
    "        \"n/a\": 0\n",
    "    }\n",
    "}\n",
    "\n",
    "loans_2007= loans_2007.replace(mapping_dict)\n"
   ]
  },
  {
   "cell_type": "markdown",
   "metadata": {},
   "source": [
    "Above we used python's helpful method to clean up \"emp_length\" columns. Now let's encode \"home_ownership\", \"verification_status\", \"title\", and \"term\" columns as dummy variables so we can use them later in the model.\n"
   ]
  },
  {
   "cell_type": "code",
   "execution_count": 138,
   "metadata": {
    "collapsed": true
   },
   "outputs": [],
   "source": [
    "dum_columns = [\"home_ownership\", \"verification_status\",\"purpose\", \"term\"]\n",
    "\n",
    "dummy_df= pd.get_dummies(loans_2007[dum_columns])\n",
    "\n",
    "#use concat method to add these dummy columns back to loans_2007 df\n",
    "loans_2007= pd.concat([loans_2007,dummy_df],axis=1)\n",
    "\n",
    "# then drop original columns entirely \n",
    "loans_2007 = loans_2007.drop(dum_columns,axis=1)\n"
   ]
  },
  {
   "cell_type": "markdown",
   "metadata": {},
   "source": [
    "Before diving into predicting loan_status, it is important to keep in mind our original goal:\n",
    "can we build ML model that can accurately predict if a borrower will pay off their loan or not.\n",
    "An error metric should be established to help us figure out when the model does well. Lending Club's objective is obviously to make money, they want to fund enough loans that are paid off on time to offset losses from loans that aren't paid off. \n",
    "The error metric we should be concerned with are false positives and false negatives.\n",
    "With a false positive, model predicts that a loan will be paid off on time, but it actually isn't.(dangerous)\n",
    "With a false negative, we predict that a loan won't be paid off on time, but it actually would be paid off on time.(less dangerous)\n",
    "\n",
    "Note: keep an deye on imbalance in data, skewed towards 1's. \n"
   ]
  },
  {
   "cell_type": "code",
   "execution_count": 139,
   "metadata": {},
   "outputs": [
    {
     "data": {
      "text/plain": [
       "1    0.857743\n",
       "0    0.142257\n",
       "Name: loan_status, dtype: float64"
      ]
     },
     "execution_count": 139,
     "metadata": {},
     "output_type": "execute_result"
    }
   ],
   "source": [
    "loans_2007['loan_status'].value_counts()/loans_2007.shape[0]\n"
   ]
  },
  {
   "cell_type": "markdown",
   "metadata": {},
   "source": [
    "Let's write a help fuction to calculate below metrics.\n",
    "\n",
    "As mentioned above, class imbalance in loan_status columns in prevalent,6 times as many 1's as 0's. This causes a major issue when we use accuracy as a metric. This is because due to the class imbalance, a classifier can predict 1 for every row, and still have high accuracy. \n",
    "For exaple, if we made 7 loans, and predicted class 1 for all, we should still be 85.7% accurate in our prediction,(identified that many cases correctly), and although this might be a high accuracy, it is not the case for this problme. If 7 loans, 1000 each paid us 10% interest,with 1 default we would receive 600 dollars i/r profit and incur 1000 loss on the lost principle, total losses -400 dollars.\n",
    "This is why it's important to always be aware of imbalanced classes in machine learning models, and to adjust your error metric accordingly.\n",
    "\n",
    "False positive rate(fpr) =  fp / (fp + tn)\n",
    ": \"what percentage of my 1 predictions are incorrect?\" or \"what percentage of the loans that I fund would not be repaid?\"\n",
    "\n",
    "\n",
    "True Positive Rate (tpr) = tp / (tp + fn)\n",
    ": \"what percentage of all the possible 1 predictions am I making?\" or \"what percentage of loans that could be funded would I fund?\"\n",
    "\n"
   ]
  },
  {
   "cell_type": "code",
   "execution_count": 140,
   "metadata": {
    "collapsed": true
   },
   "outputs": [],
   "source": [
    "def compute_metrics(predictions):\n",
    "    predictions = pd.Series(predictions)\n",
    "    \n",
    "    tn_filter=(predictions==0)&(loans_2007[\"loan_status\"]==0)\n",
    "    tn = len(predictions[tn_filter])\n",
    "    \n",
    "    tp_filter= (predictions==1)& (loans_2007[\"loan_status\"]==1)\n",
    "    tp= len(predictions[tp_filter])\n",
    "    \n",
    "    fn_filter= (predictions==0) & (loans_2007[\"loan_status\"]==1)\n",
    "    fn = len(predictions[fn_filter])\n",
    "    \n",
    "    fp_filter= (predictions==1) & (loans_2007[\"loan_status\"]==0)\n",
    "    fp= len(predictions[fp_filter])\n",
    "    \n",
    "    fpr = fp /(fp+tn)\n",
    "    tpr = tp / (tp+fn)\n",
    "    \n",
    "    print(tpr* 100)\n",
    "    print(fpr*100)\n"
   ]
  },
  {
   "cell_type": "code",
   "execution_count": 141,
   "metadata": {
    "collapsed": true
   },
   "outputs": [],
   "source": [
    "#loans_2007.info()\n",
    "\n",
    "#https://machinelearningmastery.com/assessing-comparing-classifier-performance-roc-curves-2/"
   ]
  },
  {
   "cell_type": "code",
   "execution_count": 142,
   "metadata": {
    "collapsed": true
   },
   "outputs": [],
   "source": [
    "cols = loans_2007.columns\n",
    "\n",
    "train_col = cols.drop(\"loan_status\")\n",
    "\n",
    "#Our X's\n",
    "features=loans_2007[train_col]\n",
    "\n",
    "#Our Y\n",
    "target= loans_2007[\"loan_status\"]"
   ]
  },
  {
   "cell_type": "markdown",
   "metadata": {},
   "source": [
    "Let's start with simple Logistic Regression "
   ]
  },
  {
   "cell_type": "code",
   "execution_count": 144,
   "metadata": {},
   "outputs": [],
   "source": [
    "from sklearn.linear_model import LogisticRegression\n",
    "lr = LogisticRegression()\n",
    "\n",
    "lr.fit(features,target)\n",
    "\n",
    "predictions=lr.predict(features)"
   ]
  },
  {
   "cell_type": "code",
   "execution_count": 145,
   "metadata": {},
   "outputs": [
    {
     "name": "stdout",
     "output_type": "stream",
     "text": [
      "99.91768821471616\n",
      "99.92914083259522\n",
      "None\n"
     ]
    }
   ],
   "source": [
    "#Let's compute performance\n",
    "metrics =compute_metrics(predictions)\n",
    "print(metrics)"
   ]
  },
  {
   "cell_type": "markdown",
   "metadata": {},
   "source": [
    "Above predictions were overfit because we generated predictions from the same data we trained our predictions on, hence unrealistically high depiction of how accurate algorithm is.\n",
    "In order to get realistic depiction, we'll use cross-validation to generate more accurate predictions. Cross validation splits the dataset into groups, then makes predictions on each group using the other groups as training data. This ensures that we don't overfit by generating predictions on the same data that we train our algorithm with. "
   ]
  },
  {
   "cell_type": "code",
   "execution_count": 146,
   "metadata": {},
   "outputs": [],
   "source": [
    "from sklearn.cross_validation import cross_val_predict, KFold\n",
    "lr = LogisticRegression()\n",
    "\n",
    "kf = KFold(features.shape[0], random_state=1)\n",
    "\n",
    "predictions = cross_val_predict(lr, features, target, cv=kf)\n",
    "predictions = pd.Series(predictions)\n"
   ]
  },
  {
   "cell_type": "code",
   "execution_count": 147,
   "metadata": {},
   "outputs": [
    {
     "name": "stdout",
     "output_type": "stream",
     "text": [
      "99.91180880148161\n",
      "99.94685562444641\n",
      "None\n"
     ]
    }
   ],
   "source": [
    "metrics =compute_metrics(predictions)\n",
    "print(metrics)"
   ]
  },
  {
   "cell_type": "markdown",
   "metadata": {},
   "source": [
    "Unfortunately,classifier isn't accounting for the imbalance in the classes(0,1). \n",
    "Solution: Tell the classifier to penalize misclassifications of the less prevalent class(0) more than the other(1) class.\n",
    "\n",
    "We can do this by setting the class_weight parameter to \"balanced\" when creating the LogisticRegression instance. This tells scikit-learn to penalize the misclassification of the minority class during the training process. The penalty means that the logistic regression classifier pays more attention to correctly classifying rows where loan_status is 0. This lowers accuracy when loan_status is 1, but raises accuracy when loan_status is 0.\n",
    "This would mean that for the classifier, correctly classifying a row where loan_status is 0 is 6 times more important than correctly classifying a row where loan_status is 1.\n",
    "\n",
    "Let's repeat KFold with strategy presented above."
   ]
  },
  {
   "cell_type": "code",
   "execution_count": 148,
   "metadata": {
    "collapsed": true
   },
   "outputs": [],
   "source": [
    "lr= LogisticRegression(class_weight=\"balanced\")\n",
    "\n",
    "kf= KFold(features.shape[0], random_state=1)\n",
    "\n",
    "predictions = cross_val_predict(lr,features,target, cv=kf)\n",
    "\n",
    "predictions = pd.Series(predictions)"
   ]
  },
  {
   "cell_type": "code",
   "execution_count": 91,
   "metadata": {},
   "outputs": [
    {
     "name": "stdout",
     "output_type": "stream",
     "text": [
      "62.374695005438454\n",
      "58.56510186005315\n",
      "None\n"
     ]
    }
   ],
   "source": [
    "metrics =compute_metrics(predictions)\n",
    "print(metrics)"
   ]
  },
  {
   "cell_type": "markdown",
   "metadata": {},
   "source": [
    "Significantly improved: False positive is around 58% while True positive is 62%. From a conservative investor's standpoint, it's reassuring that the false positive rate is lower because it means that we'll be able to do a better job at avoiding bad loans than if we funded everything. However, only 62% of good loans are being funded... In the last screen, the penalty scikit-learn imposed for misclassifying a 0 would have been around 5.89 (since there are 5.89 times as many 1s as 0s). Let's try to set penalty manually in the next try."
   ]
  },
  {
   "cell_type": "code",
   "execution_count": 149,
   "metadata": {},
   "outputs": [
    {
     "name": "stdout",
     "output_type": "stream",
     "text": [
      "20.386865390833993\n",
      "19.41541186891054\n",
      "None\n"
     ]
    }
   ],
   "source": [
    "#pass in a dictionary of penalty values to the class_weight parameter\n",
    "# play around with 0:penalty\n",
    "\n",
    "penalty = { 0: 10, 1: 1 }\n",
    "\n",
    "lr= LogisticRegression(class_weight=penalty)\n",
    "\n",
    "kf= KFold(features.shape[0], random_state=1)\n",
    "\n",
    "predictions = cross_val_predict(lr,features,target, cv=kf)\n",
    "\n",
    "predictions = pd.Series(predictions)\n",
    "\n",
    "metrics =compute_metrics(predictions) \n",
    "print(metrics)\n"
   ]
  },
  {
   "cell_type": "markdown",
   "metadata": {},
   "source": [
    "It looks like false positive rate was lowered to 19% and it comes at the expense of the true positive rate. While we have fewer false positives, we're also missing opportunities to fund more loans and potentially make more money. \n",
    "Next, let's try random forests: unlike logistic regression that only works with linear data, RF are able to fit nonlinear data."
   ]
  },
  {
   "cell_type": "markdown",
   "metadata": {},
   "source": [
    "Let's determine best parameter with GridSearch\n"
   ]
  },
  {
   "cell_type": "code",
   "execution_count": 152,
   "metadata": {},
   "outputs": [
    {
     "name": "stdout",
     "output_type": "stream",
     "text": [
      "97.13966546138695\n",
      "96.59875996457042\n",
      "None\n"
     ]
    }
   ],
   "source": [
    "from sklearn.ensemble import RandomForestClassifier\n",
    "\n",
    "from sklearn.cross_validation import cross_val_predict\n",
    "\n",
    "rf= RandomForestClassifier(class_weight=\"balanced\",random_state=1)\n",
    "\n",
    "kf= KFold(features.shape[0], random_state=1)\n",
    "\n",
    "predictions = cross_val_predict(rf,features,target, cv=kf)\n",
    "\n",
    "predictions = pd.Series(predictions)\n",
    "\n",
    "metrics =compute_metrics(predictions) \n",
    "print(metrics)\n",
    "                        "
   ]
  },
  {
   "cell_type": "markdown",
   "metadata": {},
   "source": [
    "Unfortunately, using a random forest classifier didn't improve our false positive rate. The model is likely weighting too heavily on the 1 class, and still mostly predicting 1s."
   ]
  },
  {
   "cell_type": "code",
   "execution_count": 151,
   "metadata": {},
   "outputs": [
    {
     "data": {
      "image/png": "[encoded data removed]",
      "text/plain": [
       "<matplotlib.figure.Figure at 0x11575dc50>"
      ]
     },
     "metadata": {},
     "output_type": "display_data"
    }
   ],
   "source": [
    "import numpy as np\n",
    "import matplotlib.pyplot as plt\n",
    "from sklearn.ensemble import RandomForestClassifier,RandomForestRegressor\n",
    "\n",
    "RF = RandomForestRegressor(n_estimators=100, random_state=1).fit(features,target)\n",
    "\n",
    "\n",
    "\n",
    "feature_names = np.array([' '.join([str(b), a]) for a,b in\n",
    "zip(features.columns,range(len(features.columns)))])\n",
    "\n",
    "\n",
    "importance = np.mean([tree.feature_importances_ for tree in RF.estimators_],axis=0)\n",
    "std = np.std([tree.feature_importances_ for tree in RF.estimators_],axis=0)\n",
    "indices = np.argsort(importance)\n",
    "range_ = range(len(importance))\n",
    "plt.figure()\n",
    "plt.title(\"Random Forest importance\")\n",
    "\n",
    "plt.barh(range_,importance[indices], color=\"r\", xerr=std[indices], alpha=0.4, align=\"center\")\n",
    "\n",
    "plt.yticks(range(len(importance)), feature_names[indices])\n",
    "plt.ylim([-2, len(importance)])\n",
    "plt.xlim([0.0, 0.20])\n",
    "plt.show()"
   ]
  },
  {
   "cell_type": "code",
   "execution_count": null,
   "metadata": {
    "collapsed": true
   },
   "outputs": [],
   "source": []
  }
 ],
 "metadata": {
  "kernelspec": {
   "display_name": "Python 3",
   "language": "python",
   "name": "python3"
  },
  "language_info": {
   "codemirror_mode": {
    "name": "ipython",
    "version": 3
   },
   "file_extension": ".py",
   "mimetype": "text/x-python",
   "name": "python",
   "nbconvert_exporter": "python",
   "pygments_lexer": "ipython3",
   "version": "3.6.2"
  }
 },
 "nbformat": 4,
 "nbformat_minor": 2
}
